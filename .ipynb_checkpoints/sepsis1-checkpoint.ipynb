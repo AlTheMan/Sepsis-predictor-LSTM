{
 "cells": [
  {
   "cell_type": "code",
   "execution_count": 51,
   "id": "ec92d6bb-b5ff-4261-8e3c-c81f9f95c7da",
   "metadata": {},
   "outputs": [
    {
     "data": {
      "text/plain": [
       "<module 'utility_functions' from 'C:\\\\Users\\\\emilw\\\\JupyterLab\\\\sepsis-ts\\\\utility_functions.py'>"
      ]
     },
     "execution_count": 51,
     "metadata": {},
     "output_type": "execute_result"
    }
   ],
   "source": [
    "import torch\n",
    "import torch.nn as nn\n",
    "import utility_functions as uf\n",
    "import pandas as pd\n",
    "import numpy as np\n",
    "import importlib"
   ]
  },
  {
   "cell_type": "code",
   "execution_count": null,
   "id": "56ea8584-13d1-40ac-97b6-246d9a2a526c",
   "metadata": {},
   "outputs": [],
   "source": [
    "pd.options.display.max_columns = None\n",
    "importlib.reload(uf)"
   ]
  },
  {
   "cell_type": "code",
   "execution_count": 28,
   "id": "c82420af-75d6-4ae7-b45c-365c6f19b793",
   "metadata": {},
   "outputs": [
    {
     "data": {
      "text/plain": [
       "device(type='cuda')"
      ]
     },
     "execution_count": 28,
     "metadata": {},
     "output_type": "execute_result"
    }
   ],
   "source": [
    "device = torch.device('cuda' if torch.cuda.is_available() else 'cpu')\n",
    "device"
   ]
  },
  {
   "cell_type": "markdown",
   "id": "6fb4526a-b123-4790-b9d2-ced5e7d65109",
   "metadata": {},
   "source": [
    "# Data Loading"
   ]
  },
  {
   "cell_type": "code",
   "execution_count": 34,
   "id": "a1d4ff81-a082-4de5-a051-6f22e776f8f7",
   "metadata": {},
   "outputs": [],
   "source": [
    "# Loading the data from helper function\n",
    "timeseries = uf.TimeseriesTorch('raw_data/', 43)"
   ]
  },
  {
   "cell_type": "code",
   "execution_count": 36,
   "id": "416b9c6b-7614-43b6-8231-2048e97a9fff",
   "metadata": {},
   "outputs": [
    {
     "name": "stdout",
     "output_type": "stream",
     "text": [
      "tensor([[-0.5305, -0.6444, -0.7069,  ...,  0.3171,  0.0617, -0.2662],\n",
      "        [-0.5305, -0.6444, -0.7069,  ...,  0.3171,  0.0617, -0.2662],\n",
      "        [-1.2386, -0.4015, -0.7069,  ...,  0.3171,  0.0617, -0.2662],\n",
      "        ...,\n",
      "        [ 0.4236, -0.4987,  0.4363,  ...,  2.4703, -0.6550, -1.4247],\n",
      "        [ 0.4901, -0.8874,  0.4363,  ...,  2.4703, -0.6550, -1.4247],\n",
      "        [ 0.1577, -0.9359,  0.4363,  ...,  2.4703, -0.6550, -1.4247]])\n",
      "tensor([0., 0., 0.,  ..., 0., 0., 0.])\n"
     ]
    }
   ],
   "source": [
    "print(timeseries.train[0])\n",
    "print(timeseries.train[1])"
   ]
  },
  {
   "cell_type": "code",
   "execution_count": 37,
   "id": "b320e770-c005-449a-b73c-729e60227368",
   "metadata": {},
   "outputs": [],
   "source": [
    "# Loading the data manually\n",
    "data1 = pd.read_table(\"raw_data/sepsisexp_timeseries_partition-A.tsv\")\n",
    "data2 = pd.read_table(\"raw_data/sepsisexp_timeseries_partition-B.tsv\")\n",
    "data3 = pd.read_table(\"raw_data/sepsisexp_timeseries_partition-C.tsv\")\n",
    "data4 = pd.read_table(\"raw_data/sepsisexp_timeseries_partition-D.tsv\")"
   ]
  },
  {
   "cell_type": "code",
   "execution_count": 38,
   "id": "04824bdb-9472-441d-ade6-ea1748b3d90a",
   "metadata": {},
   "outputs": [],
   "source": [
    "# Setting partitions. \n",
    "# The dataset is split into four partitions (A–D) that are used in the 4-fold cross validation experiments in (Schamoni et al., 2022). \n",
    "data1[\"partition\"] = 1\n",
    "data2[\"partition\"] = 2\n",
    "data3[\"partition\"] = 3\n",
    "data4[\"partition\"] = 4"
   ]
  },
  {
   "cell_type": "code",
   "execution_count": 39,
   "id": "b496b7c1-f4cb-4435-97db-c22b011b7e8c",
   "metadata": {},
   "outputs": [],
   "source": [
    "data_orig = pd.concat([data1, data2, data3, data4], ignore_index=True)"
   ]
  },
  {
   "cell_type": "code",
   "execution_count": 40,
   "id": "789e2d8d-0bc4-4ae5-beb1-ed1769672723",
   "metadata": {},
   "outputs": [],
   "source": [
    "df = data_orig.copy()"
   ]
  },
  {
   "cell_type": "code",
   "execution_count": 48,
   "id": "767c2845-7d23-4794-9618-dd77a75d2516",
   "metadata": {},
   "outputs": [
    {
     "data": {
      "text/plain": [
       "id                                0\n",
       "sepsis                            0\n",
       "severity                          0\n",
       "timestep                          0\n",
       "respiratory_minute_volume         0\n",
       "heart_rate                        0\n",
       "leukocytes                        0\n",
       "temperature                       0\n",
       "partial_co2                       0\n",
       "respiratory_rate                  0\n",
       "arterial_ph                       0\n",
       "bilirubin                         0\n",
       "blood_urea_nitrogen               0\n",
       "creatinine                        0\n",
       "diastolic_bp                      0\n",
       "fraction_of_inspired_o2           0\n",
       "mean_bp                           0\n",
       "partial_pressure_art._o2          0\n",
       "systolic_bp                       0\n",
       "thrombocytes                      0\n",
       "horowitz_index                    0\n",
       "bun/creatinine_ratio              0\n",
       "delta-temperature                 0\n",
       "lactate                           0\n",
       "bicarbonate                       0\n",
       "c-reactive_protein                0\n",
       "hemoglobin                        0\n",
       "heart_time_volume                 0\n",
       "lymphocytes                       0\n",
       "sodium                            0\n",
       "pancreatic_lipase                 0\n",
       "procalcitonin                     0\n",
       "quick_score                       0\n",
       "oxygen_saturation                 0\n",
       "blood_glucose                     0\n",
       "base_excess                       0\n",
       "chloride                          0\n",
       "calcium                           0\n",
       "potassium                         0\n",
       "mixed_venous_oxygen_saturation    0\n",
       "urine_output                      0\n",
       "net balance                       0\n",
       "alanine_transaminase              0\n",
       "aspartate_transaminase            0\n",
       "stroke_volume                     0\n",
       "svri                              0\n",
       "age                               0\n",
       "partition                         0\n",
       "dtype: int64"
      ]
     },
     "execution_count": 48,
     "metadata": {},
     "output_type": "execute_result"
    }
   ],
   "source": [
    "df.isna().sum()"
   ]
  },
  {
   "cell_type": "code",
   "execution_count": 43,
   "id": "37907e49-0e5d-4484-bdc1-93b97ba1992e",
   "metadata": {},
   "outputs": [
    {
     "data": {
      "text/plain": [
       "sepsis\n",
       "1    364745\n",
       "0    237823\n",
       "Name: count, dtype: int64"
      ]
     },
     "execution_count": 43,
     "metadata": {},
     "output_type": "execute_result"
    }
   ],
   "source": [
    "df[\"sepsis\"].value_counts()"
   ]
  }
 ],
 "metadata": {
  "kernelspec": {
   "display_name": "assig3",
   "language": "python",
   "name": "assig3"
  },
  "language_info": {
   "codemirror_mode": {
    "name": "ipython",
    "version": 3
   },
   "file_extension": ".py",
   "mimetype": "text/x-python",
   "name": "python",
   "nbconvert_exporter": "python",
   "pygments_lexer": "ipython3",
   "version": "3.12.2"
  }
 },
 "nbformat": 4,
 "nbformat_minor": 5
}
